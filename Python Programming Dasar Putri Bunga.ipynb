{
 "cells": [
  {
   "cell_type": "markdown",
   "metadata": {},
   "source": [
    "# 1. How many rows and columns reflected on dataset file IMDB-database-update.csv? "
   ]
  },
  {
   "cell_type": "code",
   "execution_count": 160,
   "metadata": {},
   "outputs": [
    {
     "name": "stdout",
     "output_type": "stream",
     "text": [
      "column in on dataset =  36\n",
      "row in on dataset =  3781\n"
     ]
    }
   ],
   "source": [
    "imdb = pd.read_csv('IMDB-database-update.csv', encoding = 'Latin1') \n",
    "print(\"column in on dataset = \" , len(imdb.columns))\n",
    "print(\"row in on dataset = \" , len(imdb))\n"
   ]
  },
  {
   "cell_type": "markdown",
   "metadata": {},
   "source": [
    "# 2. What are the top 3 movies with highest nett profit in 2013? "
   ]
  },
  {
   "cell_type": "code",
   "execution_count": 228,
   "metadata": {
    "scrolled": true
   },
   "outputs": [
    {
     "data": {
      "text/html": [
       "<div>\n",
       "<style scoped>\n",
       "    .dataframe tbody tr th:only-of-type {\n",
       "        vertical-align: middle;\n",
       "    }\n",
       "\n",
       "    .dataframe tbody tr th {\n",
       "        vertical-align: top;\n",
       "    }\n",
       "\n",
       "    .dataframe thead th {\n",
       "        text-align: right;\n",
       "    }\n",
       "</style>\n",
       "<table border=\"1\" class=\"dataframe\">\n",
       "  <thead>\n",
       "    <tr style=\"text-align: right;\">\n",
       "      <th></th>\n",
       "      <th>movie_ID</th>\n",
       "      <th>movie_title</th>\n",
       "      <th>duration</th>\n",
       "      <th>color</th>\n",
       "      <th>title_year</th>\n",
       "      <th>country</th>\n",
       "      <th>language</th>\n",
       "      <th>content_rating</th>\n",
       "      <th>budget_USD</th>\n",
       "      <th>gross_USD</th>\n",
       "      <th>...</th>\n",
       "      <th>actor_3_facebook?</th>\n",
       "      <th>actor_3_facebook_likes</th>\n",
       "      <th>cast_total_facebook_likes</th>\n",
       "      <th>movie_facebook?</th>\n",
       "      <th>movie_facebook_likes;</th>\n",
       "      <th>facenumber_in_poster</th>\n",
       "      <th>num_voted_users</th>\n",
       "      <th>num_user_for_reviews</th>\n",
       "      <th>imdb_score</th>\n",
       "      <th>imdb_top_250</th>\n",
       "    </tr>\n",
       "  </thead>\n",
       "  <tbody>\n",
       "    <tr>\n",
       "      <th>1614</th>\n",
       "      <td>1615</td>\n",
       "      <td>The Hunger Games: Catching Fire</td>\n",
       "      <td>146</td>\n",
       "      <td>1</td>\n",
       "      <td>2013</td>\n",
       "      <td>USA</td>\n",
       "      <td>English</td>\n",
       "      <td>PG-13</td>\n",
       "      <td>130000000</td>\n",
       "      <td>424645577</td>\n",
       "      <td>...</td>\n",
       "      <td>1</td>\n",
       "      <td>523</td>\n",
       "      <td>49355</td>\n",
       "      <td>1</td>\n",
       "      <td>82000</td>\n",
       "      <td>1</td>\n",
       "      <td>498397</td>\n",
       "      <td>706</td>\n",
       "      <td>7.6</td>\n",
       "      <td>0</td>\n",
       "    </tr>\n",
       "    <tr>\n",
       "      <th>236</th>\n",
       "      <td>237</td>\n",
       "      <td>Despicable Me 2</td>\n",
       "      <td>98</td>\n",
       "      <td>1</td>\n",
       "      <td>2013</td>\n",
       "      <td>USA</td>\n",
       "      <td>English</td>\n",
       "      <td>PG</td>\n",
       "      <td>76000000</td>\n",
       "      <td>368049635</td>\n",
       "      <td>...</td>\n",
       "      <td>1</td>\n",
       "      <td>1000</td>\n",
       "      <td>11905</td>\n",
       "      <td>1</td>\n",
       "      <td>56000</td>\n",
       "      <td>0</td>\n",
       "      <td>286877</td>\n",
       "      <td>284</td>\n",
       "      <td>7.5</td>\n",
       "      <td>0</td>\n",
       "    </tr>\n",
       "    <tr>\n",
       "      <th>57</th>\n",
       "      <td>58</td>\n",
       "      <td>Frozen</td>\n",
       "      <td>102</td>\n",
       "      <td>1</td>\n",
       "      <td>2013</td>\n",
       "      <td>USA</td>\n",
       "      <td>English</td>\n",
       "      <td>PG</td>\n",
       "      <td>150000000</td>\n",
       "      <td>400736600</td>\n",
       "      <td>...</td>\n",
       "      <td>1</td>\n",
       "      <td>490</td>\n",
       "      <td>2582</td>\n",
       "      <td>1</td>\n",
       "      <td>58000</td>\n",
       "      <td>0</td>\n",
       "      <td>421658</td>\n",
       "      <td>904</td>\n",
       "      <td>7.6</td>\n",
       "      <td>0</td>\n",
       "    </tr>\n",
       "  </tbody>\n",
       "</table>\n",
       "<p>3 rows × 36 columns</p>\n",
       "</div>"
      ],
      "text/plain": [
       "      movie_ID                      movie_title  duration  color  title_year  \\\n",
       "1614      1615  The Hunger Games: Catching Fire       146      1        2013   \n",
       "236        237                  Despicable Me 2        98      1        2013   \n",
       "57          58                           Frozen       102      1        2013   \n",
       "\n",
       "     country language content_rating  budget_USD  gross_USD      ...       \\\n",
       "1614     USA  English          PG-13   130000000  424645577      ...        \n",
       "236      USA  English             PG    76000000  368049635      ...        \n",
       "57       USA  English             PG   150000000  400736600      ...        \n",
       "\n",
       "      actor_3_facebook?  actor_3_facebook_likes cast_total_facebook_likes  \\\n",
       "1614                  1                     523                     49355   \n",
       "236                   1                    1000                     11905   \n",
       "57                    1                     490                      2582   \n",
       "\n",
       "     movie_facebook?  movie_facebook_likes;  facenumber_in_poster  \\\n",
       "1614               1                  82000                     1   \n",
       "236                1                  56000                     0   \n",
       "57                 1                  58000                     0   \n",
       "\n",
       "     num_voted_users  num_user_for_reviews  imdb_score  imdb_top_250  \n",
       "1614          498397                   706         7.6             0  \n",
       "236           286877                   284         7.5             0  \n",
       "57            421658                   904         7.6             0  \n",
       "\n",
       "[3 rows x 36 columns]"
      ]
     },
     "execution_count": 228,
     "metadata": {},
     "output_type": "execute_result"
    }
   ],
   "source": [
    "imdb2013 = imdb[imdb.title_year==2013]\n",
    "year2013 = imdb2013.sort_values(\"net_USD\", ascending=False)\n",
    "year2013.head(3)"
   ]
  },
  {
   "cell_type": "markdown",
   "metadata": {},
   "source": [
    "# 3. What are the top 3 movies with highest gross profit in 2009?"
   ]
  },
  {
   "cell_type": "code",
   "execution_count": 231,
   "metadata": {},
   "outputs": [
    {
     "data": {
      "text/html": [
       "<div>\n",
       "<style scoped>\n",
       "    .dataframe tbody tr th:only-of-type {\n",
       "        vertical-align: middle;\n",
       "    }\n",
       "\n",
       "    .dataframe tbody tr th {\n",
       "        vertical-align: top;\n",
       "    }\n",
       "\n",
       "    .dataframe thead th {\n",
       "        text-align: right;\n",
       "    }\n",
       "</style>\n",
       "<table border=\"1\" class=\"dataframe\">\n",
       "  <thead>\n",
       "    <tr style=\"text-align: right;\">\n",
       "      <th></th>\n",
       "      <th>movie_ID</th>\n",
       "      <th>movie_title</th>\n",
       "      <th>duration</th>\n",
       "      <th>color</th>\n",
       "      <th>title_year</th>\n",
       "      <th>country</th>\n",
       "      <th>language</th>\n",
       "      <th>content_rating</th>\n",
       "      <th>budget_USD</th>\n",
       "      <th>gross_USD</th>\n",
       "      <th>...</th>\n",
       "      <th>actor_3_facebook?</th>\n",
       "      <th>actor_3_facebook_likes</th>\n",
       "      <th>cast_total_facebook_likes</th>\n",
       "      <th>movie_facebook?</th>\n",
       "      <th>movie_facebook_likes;</th>\n",
       "      <th>facenumber_in_poster</th>\n",
       "      <th>num_voted_users</th>\n",
       "      <th>num_user_for_reviews</th>\n",
       "      <th>imdb_score</th>\n",
       "      <th>imdb_top_250</th>\n",
       "    </tr>\n",
       "  </thead>\n",
       "  <tbody>\n",
       "    <tr>\n",
       "      <th>0</th>\n",
       "      <td>1</td>\n",
       "      <td>Avatar</td>\n",
       "      <td>178</td>\n",
       "      <td>1</td>\n",
       "      <td>2009</td>\n",
       "      <td>USA</td>\n",
       "      <td>English</td>\n",
       "      <td>PG-13</td>\n",
       "      <td>237000000</td>\n",
       "      <td>760505847</td>\n",
       "      <td>...</td>\n",
       "      <td>1</td>\n",
       "      <td>855</td>\n",
       "      <td>4834</td>\n",
       "      <td>1</td>\n",
       "      <td>33000</td>\n",
       "      <td>0</td>\n",
       "      <td>886204</td>\n",
       "      <td>3054</td>\n",
       "      <td>7.9</td>\n",
       "      <td>0</td>\n",
       "    </tr>\n",
       "    <tr>\n",
       "      <th>19</th>\n",
       "      <td>20</td>\n",
       "      <td>Transformers: Revenge of the Fallen</td>\n",
       "      <td>150</td>\n",
       "      <td>1</td>\n",
       "      <td>2009</td>\n",
       "      <td>USA</td>\n",
       "      <td>English</td>\n",
       "      <td>PG-13</td>\n",
       "      <td>200000000</td>\n",
       "      <td>402076689</td>\n",
       "      <td>...</td>\n",
       "      <td>1</td>\n",
       "      <td>464</td>\n",
       "      <td>3218</td>\n",
       "      <td>0</td>\n",
       "      <td>0</td>\n",
       "      <td>0</td>\n",
       "      <td>323207</td>\n",
       "      <td>1439</td>\n",
       "      <td>6.0</td>\n",
       "      <td>0</td>\n",
       "    </tr>\n",
       "    <tr>\n",
       "      <th>3094</th>\n",
       "      <td>3095</td>\n",
       "      <td>Harry Potter and the Half-Blood Prince</td>\n",
       "      <td>153</td>\n",
       "      <td>1</td>\n",
       "      <td>2009</td>\n",
       "      <td>UK</td>\n",
       "      <td>English</td>\n",
       "      <td>PG</td>\n",
       "      <td>250000000</td>\n",
       "      <td>301956980</td>\n",
       "      <td>...</td>\n",
       "      <td>1</td>\n",
       "      <td>10000</td>\n",
       "      <td>58753</td>\n",
       "      <td>1</td>\n",
       "      <td>10000</td>\n",
       "      <td>3</td>\n",
       "      <td>321795</td>\n",
       "      <td>973</td>\n",
       "      <td>7.5</td>\n",
       "      <td>0</td>\n",
       "    </tr>\n",
       "  </tbody>\n",
       "</table>\n",
       "<p>3 rows × 36 columns</p>\n",
       "</div>"
      ],
      "text/plain": [
       "      movie_ID                             movie_title  duration  color  \\\n",
       "0            1                                  Avatar       178      1   \n",
       "19          20     Transformers: Revenge of the Fallen       150      1   \n",
       "3094      3095  Harry Potter and the Half-Blood Prince       153      1   \n",
       "\n",
       "      title_year country language content_rating  budget_USD  gross_USD  \\\n",
       "0           2009     USA  English          PG-13   237000000  760505847   \n",
       "19          2009     USA  English          PG-13   200000000  402076689   \n",
       "3094        2009      UK  English             PG   250000000  301956980   \n",
       "\n",
       "          ...       actor_3_facebook?  actor_3_facebook_likes  \\\n",
       "0         ...                       1                     855   \n",
       "19        ...                       1                     464   \n",
       "3094      ...                       1                   10000   \n",
       "\n",
       "     cast_total_facebook_likes movie_facebook?  movie_facebook_likes;  \\\n",
       "0                         4834               1                  33000   \n",
       "19                        3218               0                      0   \n",
       "3094                     58753               1                  10000   \n",
       "\n",
       "      facenumber_in_poster num_voted_users  num_user_for_reviews  imdb_score  \\\n",
       "0                        0          886204                  3054         7.9   \n",
       "19                       0          323207                  1439         6.0   \n",
       "3094                     3          321795                   973         7.5   \n",
       "\n",
       "      imdb_top_250  \n",
       "0                0  \n",
       "19               0  \n",
       "3094             0  \n",
       "\n",
       "[3 rows x 36 columns]"
      ]
     },
     "execution_count": 231,
     "metadata": {},
     "output_type": "execute_result"
    }
   ],
   "source": [
    "imdb2009 = imdb[imdb.title_year==2009]\n",
    "year2009 = imdb2009.sort_values(\"gross_USD\", ascending=False)\n",
    "year2009.head(3)"
   ]
  },
  {
   "cell_type": "markdown",
   "metadata": {},
   "source": [
    "# 4. How many non-english movies are in the dataset? "
   ]
  },
  {
   "cell_type": "code",
   "execution_count": 246,
   "metadata": {},
   "outputs": [
    {
     "data": {
      "text/plain": [
       "153"
      ]
     },
     "execution_count": 246,
     "metadata": {},
     "output_type": "execute_result"
    }
   ],
   "source": [
    "len(imdb[imdb.language!='English'])"
   ]
  },
  {
   "cell_type": "markdown",
   "metadata": {},
   "source": [
    "# 5.  What are top 3 languages in the dataset aside English (based on number of movies)? "
   ]
  },
  {
   "cell_type": "code",
   "execution_count": 258,
   "metadata": {},
   "outputs": [
    {
     "data": {
      "text/plain": [
       "French      33\n",
       "Spanish     23\n",
       "Mandarin    14\n",
       "Name: language, dtype: int64"
      ]
     },
     "execution_count": 258,
     "metadata": {},
     "output_type": "execute_result"
    }
   ],
   "source": [
    "imdb[imdb.language != \"English\"][\"language\"].value_counts().head(3)"
   ]
  },
  {
   "cell_type": "markdown",
   "metadata": {},
   "source": [
    "# 6. What are the top 3 countries with the highest nett profit in all dataset times?"
   ]
  },
  {
   "cell_type": "code",
   "execution_count": 271,
   "metadata": {},
   "outputs": [
    {
     "data": {
      "text/html": [
       "<div>\n",
       "<style scoped>\n",
       "    .dataframe tbody tr th:only-of-type {\n",
       "        vertical-align: middle;\n",
       "    }\n",
       "\n",
       "    .dataframe tbody tr th {\n",
       "        vertical-align: top;\n",
       "    }\n",
       "\n",
       "    .dataframe thead th {\n",
       "        text-align: right;\n",
       "    }\n",
       "</style>\n",
       "<table border=\"1\" class=\"dataframe\">\n",
       "  <thead>\n",
       "    <tr style=\"text-align: right;\">\n",
       "      <th></th>\n",
       "      <th>movie_ID</th>\n",
       "      <th>duration</th>\n",
       "      <th>color</th>\n",
       "      <th>title_year</th>\n",
       "      <th>budget_USD</th>\n",
       "      <th>gross_USD</th>\n",
       "      <th>net_USD</th>\n",
       "      <th>profitable</th>\n",
       "      <th>director_facebook?</th>\n",
       "      <th>director_facebook_likes</th>\n",
       "      <th>...</th>\n",
       "      <th>actor_3_facebook?</th>\n",
       "      <th>actor_3_facebook_likes</th>\n",
       "      <th>cast_total_facebook_likes</th>\n",
       "      <th>movie_facebook?</th>\n",
       "      <th>movie_facebook_likes;</th>\n",
       "      <th>facenumber_in_poster</th>\n",
       "      <th>num_voted_users</th>\n",
       "      <th>num_user_for_reviews</th>\n",
       "      <th>imdb_score</th>\n",
       "      <th>imdb_top_250</th>\n",
       "    </tr>\n",
       "    <tr>\n",
       "      <th>country</th>\n",
       "      <th></th>\n",
       "      <th></th>\n",
       "      <th></th>\n",
       "      <th></th>\n",
       "      <th></th>\n",
       "      <th></th>\n",
       "      <th></th>\n",
       "      <th></th>\n",
       "      <th></th>\n",
       "      <th></th>\n",
       "      <th></th>\n",
       "      <th></th>\n",
       "      <th></th>\n",
       "      <th></th>\n",
       "      <th></th>\n",
       "      <th></th>\n",
       "      <th></th>\n",
       "      <th></th>\n",
       "      <th></th>\n",
       "      <th></th>\n",
       "      <th></th>\n",
       "    </tr>\n",
       "  </thead>\n",
       "  <tbody>\n",
       "    <tr>\n",
       "      <th>USA</th>\n",
       "      <td>5675953</td>\n",
       "      <td>329223</td>\n",
       "      <td>2924</td>\n",
       "      <td>6027180</td>\n",
       "      <td>121680335210</td>\n",
       "      <td>173684268384</td>\n",
       "      <td>52003933174</td>\n",
       "      <td>1729</td>\n",
       "      <td>2494</td>\n",
       "      <td>2769868</td>\n",
       "      <td>...</td>\n",
       "      <td>2989</td>\n",
       "      <td>2521427</td>\n",
       "      <td>37195351</td>\n",
       "      <td>1646</td>\n",
       "      <td>28279429</td>\n",
       "      <td>4267</td>\n",
       "      <td>326474639</td>\n",
       "      <td>1013202</td>\n",
       "      <td>19207.4</td>\n",
       "      <td>114</td>\n",
       "    </tr>\n",
       "    <tr>\n",
       "      <th>UK</th>\n",
       "      <td>617519</td>\n",
       "      <td>35921</td>\n",
       "      <td>306</td>\n",
       "      <td>636498</td>\n",
       "      <td>9972938734</td>\n",
       "      <td>11504553258</td>\n",
       "      <td>1531614524</td>\n",
       "      <td>138</td>\n",
       "      <td>263</td>\n",
       "      <td>94324</td>\n",
       "      <td>...</td>\n",
       "      <td>316</td>\n",
       "      <td>180520</td>\n",
       "      <td>2844615</td>\n",
       "      <td>160</td>\n",
       "      <td>3265458</td>\n",
       "      <td>408</td>\n",
       "      <td>32119102</td>\n",
       "      <td>108650</td>\n",
       "      <td>2177.4</td>\n",
       "      <td>15</td>\n",
       "    </tr>\n",
       "    <tr>\n",
       "      <th>Australia</th>\n",
       "      <td>68124</td>\n",
       "      <td>4116</td>\n",
       "      <td>38</td>\n",
       "      <td>78062</td>\n",
       "      <td>1411705523</td>\n",
       "      <td>1664277139</td>\n",
       "      <td>252571616</td>\n",
       "      <td>18</td>\n",
       "      <td>33</td>\n",
       "      <td>9118</td>\n",
       "      <td>...</td>\n",
       "      <td>39</td>\n",
       "      <td>13550</td>\n",
       "      <td>351964</td>\n",
       "      <td>24</td>\n",
       "      <td>548475</td>\n",
       "      <td>42</td>\n",
       "      <td>3337163</td>\n",
       "      <td>11892</td>\n",
       "      <td>252.2</td>\n",
       "      <td>1</td>\n",
       "    </tr>\n",
       "  </tbody>\n",
       "</table>\n",
       "<p>3 rows × 27 columns</p>\n",
       "</div>"
      ],
      "text/plain": [
       "           movie_ID  duration  color  title_year    budget_USD     gross_USD  \\\n",
       "country                                                                        \n",
       "USA         5675953    329223   2924     6027180  121680335210  173684268384   \n",
       "UK           617519     35921    306      636498    9972938734   11504553258   \n",
       "Australia     68124      4116     38       78062    1411705523    1664277139   \n",
       "\n",
       "               net_USD  profitable  director_facebook?  \\\n",
       "country                                                  \n",
       "USA        52003933174        1729                2494   \n",
       "UK          1531614524         138                 263   \n",
       "Australia    252571616          18                  33   \n",
       "\n",
       "           director_facebook_likes      ...       actor_3_facebook?  \\\n",
       "country                                 ...                           \n",
       "USA                        2769868      ...                    2989   \n",
       "UK                           94324      ...                     316   \n",
       "Australia                     9118      ...                      39   \n",
       "\n",
       "           actor_3_facebook_likes  cast_total_facebook_likes  movie_facebook?  \\\n",
       "country                                                                         \n",
       "USA                       2521427                   37195351             1646   \n",
       "UK                         180520                    2844615              160   \n",
       "Australia                   13550                     351964               24   \n",
       "\n",
       "           movie_facebook_likes;  facenumber_in_poster  num_voted_users  \\\n",
       "country                                                                   \n",
       "USA                     28279429                  4267        326474639   \n",
       "UK                       3265458                   408         32119102   \n",
       "Australia                 548475                    42          3337163   \n",
       "\n",
       "           num_user_for_reviews  imdb_score  imdb_top_250  \n",
       "country                                                    \n",
       "USA                     1013202     19207.4           114  \n",
       "UK                       108650      2177.4            15  \n",
       "Australia                 11892       252.2             1  \n",
       "\n",
       "[3 rows x 27 columns]"
      ]
     },
     "execution_count": 271,
     "metadata": {},
     "output_type": "execute_result"
    }
   ],
   "source": [
    "imdb.groupby(\"country\").sum().sort_values(by=['net_USD'], ascending=False).head(3)"
   ]
  },
  {
   "cell_type": "markdown",
   "metadata": {},
   "source": [
    "# 7. What are the average budget of all movies in dataset in 2013? "
   ]
  },
  {
   "cell_type": "code",
   "execution_count": 285,
   "metadata": {},
   "outputs": [
    {
     "data": {
      "text/plain": [
       "51069610.77439024"
      ]
     },
     "execution_count": 285,
     "metadata": {},
     "output_type": "execute_result"
    }
   ],
   "source": [
    "avg2013 = imdb2013[\"budget_USD\"].mean()\n",
    "avg2013"
   ]
  },
  {
   "cell_type": "markdown",
   "metadata": {},
   "source": [
    "# 8. What are the average budget of all movies in dataset in 2014? "
   ]
  },
  {
   "cell_type": "code",
   "execution_count": 286,
   "metadata": {},
   "outputs": [
    {
     "data": {
      "text/plain": [
       "49919006.62251656"
      ]
     },
     "execution_count": 286,
     "metadata": {},
     "output_type": "execute_result"
    }
   ],
   "source": [
    "imdb2014 = imdb[imdb.title_year==2014]\n",
    "avg2014 = imdb2014[\"budget_USD\"].mean()\n",
    "avg2014"
   ]
  },
  {
   "cell_type": "markdown",
   "metadata": {},
   "source": [
    "# 9. Which one is higher, average budget of all movies in dataset in 2014 or 2013"
   ]
  },
  {
   "cell_type": "code",
   "execution_count": 290,
   "metadata": {},
   "outputs": [
    {
     "name": "stdout",
     "output_type": "stream",
     "text": [
      "Max average budget is  51069610.77439024\n"
     ]
    }
   ],
   "source": [
    "hasil = max(avg2013, avg2014, key=lambda x:int(x))\n",
    "print(\"Max average budget is \", hasil)"
   ]
  },
  {
   "cell_type": "markdown",
   "metadata": {},
   "source": [
    "# 10. What movie that resulted highest nett profit of all dataset times? How much did the movie make? "
   ]
  },
  {
   "cell_type": "code",
   "execution_count": 333,
   "metadata": {},
   "outputs": [
    {
     "data": {
      "text/html": [
       "<div>\n",
       "<style scoped>\n",
       "    .dataframe tbody tr th:only-of-type {\n",
       "        vertical-align: middle;\n",
       "    }\n",
       "\n",
       "    .dataframe tbody tr th {\n",
       "        vertical-align: top;\n",
       "    }\n",
       "\n",
       "    .dataframe thead th {\n",
       "        text-align: right;\n",
       "    }\n",
       "</style>\n",
       "<table border=\"1\" class=\"dataframe\">\n",
       "  <thead>\n",
       "    <tr style=\"text-align: right;\">\n",
       "      <th></th>\n",
       "      <th>movie_title</th>\n",
       "      <th>net_USD</th>\n",
       "    </tr>\n",
       "  </thead>\n",
       "  <tbody>\n",
       "    <tr>\n",
       "      <th>0</th>\n",
       "      <td>Avatar</td>\n",
       "      <td>523505847</td>\n",
       "    </tr>\n",
       "  </tbody>\n",
       "</table>\n",
       "</div>"
      ],
      "text/plain": [
       "  movie_title    net_USD\n",
       "0      Avatar  523505847"
      ]
     },
     "execution_count": 333,
     "metadata": {},
     "output_type": "execute_result"
    }
   ],
   "source": [
    "imdbnomor10 = pd.read_csv('IMDB-database-update.csv', encoding = 'Latin1') \n",
    "result = imdbnomor10.sort_values(by=['net_USD'], ascending=False).head(1)\n",
    "result[['movie_title','net_USD']]"
   ]
  }
 ],
 "metadata": {
  "kernelspec": {
   "display_name": "Python 3",
   "language": "python",
   "name": "python3"
  },
  "language_info": {
   "codemirror_mode": {
    "name": "ipython",
    "version": 3
   },
   "file_extension": ".py",
   "mimetype": "text/x-python",
   "name": "python",
   "nbconvert_exporter": "python",
   "pygments_lexer": "ipython3",
   "version": "3.6.4"
  }
 },
 "nbformat": 4,
 "nbformat_minor": 2
}
